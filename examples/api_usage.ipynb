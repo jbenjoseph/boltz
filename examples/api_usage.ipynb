{
 "cells": [
  {
   "cell_type": "markdown",
   "id": "e84409d9",
   "metadata": {},
   "source": [
    "# Boltz API Inference\n",
    "\n",
    "This notebook demonstrates using the in-memory `boltz.api` interface to run structure predictions without relying on the command line or temporary files."
   ]
  },
  {
   "cell_type": "markdown",
   "id": "f1c457a5",
   "metadata": {},
   "source": [
    "## Setup\n",
    "Load required libraries, canonical molecules, and the model checkpoint."
   ]
  },
  {
   "cell_type": "code",
   "execution_count": null,
   "id": "ec755c77",
   "metadata": {},
   "outputs": [],
   "source": [
    "from pathlib import Path\n",
    "from boltz.api import BoltzModel, ChainSpec, msa_from_a3m\n",
    "from boltz.data.mol import load_canonicals\n",
    "\n",
    "# Paths to the RDKit molecule database and pretrained checkpoint\n",
    "moldir = Path('/path/to/molecules')\n",
    "checkpoint = Path('/path/to/weights.ckpt')\n",
    "\n",
    "# Load reference molecules and initialise the model\n",
    "canonicals = load_canonicals(str(moldir))\n",
    "model = BoltzModel(checkpoint, canonicals=canonicals, affinity=True)\n"
   ]
  },
  {
   "cell_type": "markdown",
   "id": "942e6431",
   "metadata": {},
   "source": [
    "## Protein–Protein prediction\n",
    "Define two protein chains and run a structure prediction entirely in memory."
   ]
  },
  {
   "cell_type": "code",
   "execution_count": null,
   "id": "31ddc5b4",
   "metadata": {},
   "outputs": [],
   "source": [
    "from pathlib import Path\n",
    "\n",
    "chain_a = ChainSpec(kind='protein', id='A', sequence='MAHHHHHHVAVDAVSFTLLQDQLQSVLDTLSEREAGVVRLRFGLTDGQPRTLDEIGQVYGVTRERIRQIESKTMSKLRHPSRSQVLRDYLDGSSGSGTPEERLLRAIFGEKA')\n",
    "chain_b = ChainSpec(kind='protein', id='B', sequence='MRYAFAAEATTCNAFWRNVDMTVTALYEVPLGVCTQDPDRWTTTPDDEAKTLCRACPRRWLCARDAVESAGAEGLWAGVVIPESGRARAFALGQLRSLAERNGYPVRDHRVSAQSA')\n",
    "\n",
    "# Optional: provide MSAs for each chain\n",
    "msas = {\n",
    "    'A': msa_from_a3m(Path('examples/msa/seq1.a3m').read_text()),\n",
    "    'B': msa_from_a3m(Path('examples/msa/seq2.a3m').read_text()),\n",
    "}\n",
    "\n",
    "pp_result = model.predict_from_chains('prot-prot', [chain_a, chain_b], msas=msas)\n",
    "# The prediction result exposes a StructureV2 instance and raw arrays\n",
    "pp_result.structure, pp_result.raw.keys()\n"
   ]
  },
  {
   "cell_type": "markdown",
   "id": "4a40b7ae",
   "metadata": {},
   "source": [
    "## Protein–Ligand prediction with affinity\n",
    "Combine a protein chain with a ligand specified via SMILES and request a binding affinity estimate."
   ]
  },
  {
   "cell_type": "code",
   "execution_count": null,
   "id": "6ca15ce3",
   "metadata": {},
   "outputs": [],
   "source": [
    "protein_seq = (\n",
    "    'MVTPEGNVSLVDESLLVGVTDEDRAVRSAHQFYERLIGLWAPAVMEAAHELGVFAALAEAPADSGELARRLDCDARAMRVLLDALYAYDVIDRIHDTNGFRYLLSAEARECL'\n",
    "    'LPGTLFSLVGKFMHDINVAWPAWRNLAEVVRHGARDTSGAESPNGIAQEDYESLVGGINFWAPPIVTTLSRKLRASGRSGDATASVLDVGCGTGLYSQLLLREFPRWTATGLDVERIATLANAQALRL'\n",
    "    'GVEERFATRAGDFWRGGWGTGYDLVLFANIFHLQTPASAVRLMRHAAACLAPDGLVAVVDQIVDADREPKTPQDRFALLFAASMTNTGGGDAYTFQEYEEWFTAAGLQRIETLDTPMHRILLARRATE'\n",
    "    'PSAVPEGQASENLYFQ'\n",
    ")\n",
    "ligand = ChainSpec(kind='ligand', id='B', smiles='N[C@@H](Cc1ccc(O)cc1)C(=O)O')\n",
    "\n",
    "chains = [ChainSpec(kind='protein', id='A', sequence=protein_seq), ligand]\n",
    "\n",
    "pl_result = model.predict_from_chains('prot-ligand', chains, affinity_binder='B')\n",
    "# Access the predicted binding affinity if the model was initialised with affinity=True\n",
    "pl_result.affinity\n"
   ]
  }
 ],
 "metadata": {},
 "nbformat": 4,
 "nbformat_minor": 5
}
